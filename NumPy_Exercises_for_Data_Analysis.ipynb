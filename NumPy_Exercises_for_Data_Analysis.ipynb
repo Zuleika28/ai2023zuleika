{
  "nbformat": 4,
  "nbformat_minor": 0,
  "metadata": {
    "colab": {
      "provenance": [],
      "include_colab_link": true
    },
    "kernelspec": {
      "name": "python3",
      "display_name": "Python 3"
    },
    "language_info": {
      "name": "python"
    }
  },
  "cells": [
    {
      "cell_type": "markdown",
      "metadata": {
        "id": "view-in-github",
        "colab_type": "text"
      },
      "source": [
        "<a href=\"https://colab.research.google.com/github/Zuleika28/ai2023zuleika/blob/main/NumPy_Exercises_for_Data_Analysis.ipynb\" target=\"_parent\"><img src=\"https://colab.research.google.com/assets/colab-badge.svg\" alt=\"Open In Colab\"/></a>"
      ]
    },
    {
      "cell_type": "markdown",
      "source": [
        "NumPy Exercises for Data Analysis"
      ],
      "metadata": {
        "id": "hSsi2_-klame"
      }
    },
    {
      "cell_type": "code",
      "source": [
        "# Import numpy as np and see the version\n",
        "import numpy as np\n",
        "print(np.__version__)\n",
        "# your code here\n",
        "pass"
      ],
      "metadata": {
        "id": "kuK4TNepldem",
        "outputId": "1d890d2c-0495-475c-f6de-c3d5cf431594",
        "colab": {
          "base_uri": "https://localhost:8080/"
        }
      },
      "execution_count": null,
      "outputs": [
        {
          "output_type": "stream",
          "name": "stdout",
          "text": [
            "1.23.5\n"
          ]
        }
      ]
    },
    {
      "cell_type": "code",
      "source": [
        "# Create a 1D array of numbers from 0 to 9\n",
        "# your code here\n",
        "my_array = np.arange(10)\n",
        "# Print the array\n",
        "print(my_array)\n",
        "pass"
      ],
      "metadata": {
        "id": "hbYX-oMBlvS-",
        "outputId": "1eafaed1-44a2-4175-c5fd-409481329627",
        "colab": {
          "base_uri": "https://localhost:8080/"
        }
      },
      "execution_count": null,
      "outputs": [
        {
          "output_type": "stream",
          "name": "stdout",
          "text": [
            "[0 1 2 3 4 5 6 7 8 9]\n"
          ]
        }
      ]
    },
    {
      "cell_type": "code",
      "source": [
        "# Create random vector of size 10 and replace the maximum value by 0\n",
        "random_vector = np.random.rand(10)\n",
        "\n",
        "# Find the index of the maximum value in the vector\n",
        "max_index = np.argmax(random_vector)\n",
        "\n",
        "# Replace the maximum value with 0\n",
        "random_vector[max_index] = 0\n",
        "\n",
        "# Print the modified vector\n",
        "print(random_vector)\n",
        "pass"
      ],
      "metadata": {
        "id": "HfsNmdvrwqsO",
        "outputId": "3b0e4aec-93f4-4bb7-86a9-352671d06cd5",
        "colab": {
          "base_uri": "https://localhost:8080/"
        }
      },
      "execution_count": null,
      "outputs": [
        {
          "output_type": "stream",
          "name": "stdout",
          "text": [
            "[0.69174899 0.1123291  0.29735303 0.74895928 0.05527064 0.05632358\n",
            " 0.12165717 0.63882398 0.         0.26346779]\n"
          ]
        }
      ]
    },
    {
      "cell_type": "code",
      "source": [
        "# Print the number 8 from the array below:\n",
        "# arr = np.array([[1,2,3,4,5], [6,7,8,9,10]])\n",
        "\n",
        "# Create the array\n",
        "arr = np.array([[1, 2, 3, 4, 5], [6, 7, 8, 9, 10]])\n",
        "# Access and print the element at the second row (index 1) and the third column (index 2)\n",
        "element = arr[1, 2]\n",
        "# Print the element\n",
        "print(element)\n",
        "pass"
      ],
      "metadata": {
        "id": "a9T-W3uUoqcE",
        "outputId": "574d292d-e89b-458d-ebe0-1d8534966877",
        "colab": {
          "base_uri": "https://localhost:8080/"
        }
      },
      "execution_count": null,
      "outputs": [
        {
          "output_type": "stream",
          "name": "stdout",
          "text": [
            "8\n"
          ]
        }
      ]
    },
    {
      "cell_type": "code",
      "source": [
        "# Print the numbers [3, 4, 5] from the array below:\n",
        "# arr = np.array([1,2,3,4,5,6,7])\n",
        "# Create the array\n",
        "arr = np.array([1, 2, 3, 4, 5, 6, 7])\n",
        "\n",
        "# Use array slicing to extract the elements [3, 4, 5]\n",
        "subset = arr[2:5]\n",
        "\n",
        "# Print the subset\n",
        "print(subset)\n",
        "pass"
      ],
      "metadata": {
        "id": "PqvPijs8o2ub",
        "outputId": "3e4f4175-73ef-4a24-abfa-001f2703aacd",
        "colab": {
          "base_uri": "https://localhost:8080/"
        }
      },
      "execution_count": null,
      "outputs": [
        {
          "output_type": "stream",
          "name": "stdout",
          "text": [
            "[3 4 5]\n"
          ]
        }
      ]
    },
    {
      "cell_type": "code",
      "source": [
        "# Print the last 4 numbers from the array below:\n",
        "# arr = np.array([1,2,3,4,5,6,7])\n",
        "arr = np.array([1, 2, 3, 4, 5, 6, 7])\n",
        "# Use negative indexing to extract the last 4 elements\n",
        "subset = arr[-4:]\n",
        "# Print the subset\n",
        "print(subset)\n",
        "pass"
      ],
      "metadata": {
        "id": "H5iUCizHpk0L",
        "outputId": "99fcf353-d99a-4e6d-e4ca-a70ee855146d",
        "colab": {
          "base_uri": "https://localhost:8080/"
        }
      },
      "execution_count": null,
      "outputs": [
        {
          "output_type": "stream",
          "name": "stdout",
          "text": [
            "[4 5 6 7]\n"
          ]
        }
      ]
    },
    {
      "cell_type": "code",
      "source": [
        "# Create a 3×3 numpy array of all True’s\n",
        "# your code here\n",
        "true_array = np.full((3, 3), True)\n",
        "\n",
        "# Print the array\n",
        "print(true_array)\n",
        "pass"
      ],
      "metadata": {
        "id": "C9nBztXhl9NA",
        "outputId": "5f8edb3a-035f-4199-c6aa-2b88e9b8f3bd",
        "colab": {
          "base_uri": "https://localhost:8080/"
        }
      },
      "execution_count": null,
      "outputs": [
        {
          "output_type": "stream",
          "name": "stdout",
          "text": [
            "[[ True  True  True]\n",
            " [ True  True  True]\n",
            " [ True  True  True]]\n"
          ]
        }
      ]
    },
    {
      "cell_type": "code",
      "source": [
        "# Extract all odd numbers from arr\n",
        "# your code here\n",
        "\n",
        "# Create a NumPy array\n",
        "arr = np.array([1, 2, 3, 4, 5, 6, 7, 8, 9])\n",
        "# Extract all odd numbers from the array\n",
        "odd_numbers = arr[arr % 2 != 0]\n",
        "# Print the extracted odd numbers\n",
        "print(odd_numbers)\n",
        "pass"
      ],
      "metadata": {
        "id": "W18lqbBwmIhw",
        "outputId": "58158f35-b4ce-4858-8d45-7ae84e6fb92b",
        "colab": {
          "base_uri": "https://localhost:8080/"
        }
      },
      "execution_count": null,
      "outputs": [
        {
          "output_type": "stream",
          "name": "stdout",
          "text": [
            "[1 3 5 7 9]\n"
          ]
        }
      ]
    },
    {
      "cell_type": "code",
      "source": [
        "# Create a vector with values ranging from 10 to 49 (★☆☆)\n",
        "my_vector = np.arange(10, 50)\n",
        "print(my_vector)\n",
        "\n",
        "pass\n"
      ],
      "metadata": {
        "id": "hA9iXCAwr55v",
        "colab": {
          "base_uri": "https://localhost:8080/"
        },
        "outputId": "061bbcf4-b271-48db-e261-3c5f6229e7c6"
      },
      "execution_count": null,
      "outputs": [
        {
          "output_type": "stream",
          "name": "stdout",
          "text": [
            "[10 11 12 13 14 15 16 17 18 19 20 21 22 23 24 25 26 27 28 29 30 31 32 33\n",
            " 34 35 36 37 38 39 40 41 42 43 44 45 46 47 48 49]\n"
          ]
        }
      ]
    },
    {
      "cell_type": "code",
      "source": [
        "# Reverse a vector (first element becomes last)\n",
        "# Create a vector\n",
        "my_vector = np.array([1, 2, 3, 4, 5])\n",
        "# Reverse the vector\n",
        "reversed_vector = my_vector[::-1]\n",
        "print(reversed_vector)\n",
        "\n",
        "pass"
      ],
      "metadata": {
        "id": "R-_IjeHyr83q",
        "colab": {
          "base_uri": "https://localhost:8080/"
        },
        "outputId": "717754ae-acd0-42c3-f1b2-d67daa777d5a"
      },
      "execution_count": null,
      "outputs": [
        {
          "output_type": "stream",
          "name": "stdout",
          "text": [
            "[5 4 3 2 1]\n"
          ]
        }
      ]
    },
    {
      "cell_type": "code",
      "source": [
        "#  Create a 10x10 array with random integer values and find the minimum and maximum values\n",
        "random_array = np.random.randint(low=1, high=100, size=(10, 10))\n",
        "\n",
        "# Find the minimum and maximum values\n",
        "minimum_value = np.min(random_array)\n",
        "maximum_value = np.max(random_array)\n",
        "\n",
        "# Print the array and the minimum and maximum values\n",
        "print(\"Random Array:\")\n",
        "print(random_array)\n",
        "print(\"\\nMinimum Value:\", minimum_value)\n",
        "print(\"Maximum Value:\", maximum_value)\n",
        "\n",
        "pass"
      ],
      "metadata": {
        "id": "rEWwl_weuq3B",
        "colab": {
          "base_uri": "https://localhost:8080/"
        },
        "outputId": "0a6a9503-bb81-47a4-87c9-39f551d36f48"
      },
      "execution_count": null,
      "outputs": [
        {
          "output_type": "stream",
          "name": "stdout",
          "text": [
            "Random Array:\n",
            "[[72 54 47 79 55 37 23 59  3 33]\n",
            " [74 98  3 95 42 73 91 40 94 92]\n",
            " [29 33 68 51 67 11 60 72  8 92]\n",
            " [16  7 87 36 42  6 80 23  8 29]\n",
            " [32  6 93 80 59 72  2 52  8 56]\n",
            " [93 50 61  5 54 87 21 82 67 77]\n",
            " [52 39 69  6 74 53  1 36 88  2]\n",
            " [29 81 92 29 58  5 47 72 57 53]\n",
            " [24 53 70 82 66 63 18  8 27 31]\n",
            " [23 30 18  7 68 91 15 14 45  5]]\n",
            "\n",
            "Minimum Value: 1\n",
            "Maximum Value: 98\n"
          ]
        }
      ]
    },
    {
      "cell_type": "code",
      "source": [
        "# Create a 3x3x3 array with random values\n",
        "# Create a 3x3x3 array with random integer values between 1 and 100\n",
        "random_int_3d_array = np.random.randint(low=1, high=100, size=(3, 3, 3))\n",
        "print(random_int_3d_array)\n",
        "\n",
        "pass"
      ],
      "metadata": {
        "id": "KFy17KsvvSql",
        "colab": {
          "base_uri": "https://localhost:8080/"
        },
        "outputId": "a63b8eb7-d8cb-44ab-f7b3-5548e3df2075"
      },
      "execution_count": null,
      "outputs": [
        {
          "output_type": "stream",
          "name": "stdout",
          "text": [
            "[[[29 93 77]\n",
            "  [49  5 65]\n",
            "  [28 52 95]]\n",
            "\n",
            " [[37 71  2]\n",
            "  [41 93 28]\n",
            "  [61 79 53]]\n",
            "\n",
            " [[ 5 74 49]\n",
            "  [65 62 66]\n",
            "  [89 51 40]]]\n"
          ]
        }
      ]
    },
    {
      "cell_type": "code",
      "source": [
        "# Replace all odd numbers in arr with -1\n",
        "# your code here\n",
        "arr = np.array([1, 2, 3, 4, 5, 6, 7, 8, 9])\n",
        "\n",
        "# Replace all odd numbers with -1\n",
        "arr[arr % 2 != 0] = -1\n",
        "\n",
        "print(arr)\n",
        "\n",
        "pass"
      ],
      "metadata": {
        "id": "X7ol3alqmbNa",
        "colab": {
          "base_uri": "https://localhost:8080/"
        },
        "outputId": "3f1b16f2-a14d-4c45-a851-0191a2a886d1"
      },
      "execution_count": null,
      "outputs": [
        {
          "output_type": "stream",
          "name": "stdout",
          "text": [
            "[-1  2 -1  4 -1  6 -1  8 -1]\n"
          ]
        }
      ]
    },
    {
      "cell_type": "code",
      "source": [
        "# Create an array of type float\n",
        "float_array = np.array([1.0, 2.5, 3.7, 4.2], dtype=float)\n",
        "\n",
        "print(float_array)\n",
        "print(\"Data Type:\", float_array.dtype)\n",
        "\n",
        "pass"
      ],
      "metadata": {
        "id": "GwdXYn9HqYTL",
        "colab": {
          "base_uri": "https://localhost:8080/"
        },
        "outputId": "beb2f599-768e-45a1-a5e5-fdfe6c85c64d"
      },
      "execution_count": null,
      "outputs": [
        {
          "output_type": "stream",
          "name": "stdout",
          "text": [
            "[1.  2.5 3.7 4.2]\n",
            "Data Type: float64\n"
          ]
        }
      ]
    },
    {
      "cell_type": "code",
      "source": [
        "# Convert a 1D array to a 2D array with 2 rows\n",
        "\n",
        "# Create a 1D array\n",
        "my_1d_array = np.array([1, 2, 3, 4, 5, 6, 7, 8])\n",
        "\n",
        "# Convert the 1D array to a 2D array with 2 rows\n",
        "my_2d_array = np.reshape(my_1d_array, (2, -1))\n",
        "\n",
        "# Print the 2D array\n",
        "print(my_2d_array)\n",
        "\n",
        "pass"
      ],
      "metadata": {
        "id": "LvcL1lUYoPjN",
        "colab": {
          "base_uri": "https://localhost:8080/"
        },
        "outputId": "426830a1-4939-4de0-9d8e-b7766f97cad4"
      },
      "execution_count": null,
      "outputs": [
        {
          "output_type": "stream",
          "name": "stdout",
          "text": [
            "[[1 2 3 4]\n",
            " [5 6 7 8]]\n"
          ]
        }
      ]
    },
    {
      "cell_type": "code",
      "source": [
        "# How to find common values between two arrays?\n",
        "\n",
        "Z1 = np.random.randint(0,10,10)\n",
        "Z2 = np.random.randint(0,10,10)\n",
        "\n",
        "# Find common values between Z1 and Z2\n",
        "common_values = np.intersect1d(Z1, Z2)\n",
        "\n",
        "# Print\n",
        "print(\"Z1:\", Z1)\n",
        "print(\"Z2:\", Z2)\n",
        "print(\"Common Values:\", common_values)\n",
        "\n",
        "pass"
      ],
      "metadata": {
        "id": "VbzMDKQvv0DX",
        "colab": {
          "base_uri": "https://localhost:8080/"
        },
        "outputId": "ba6c9e1e-e916-41bf-86e0-e1d25eed5d90"
      },
      "execution_count": null,
      "outputs": [
        {
          "output_type": "stream",
          "name": "stdout",
          "text": [
            "Z1: [2 1 1 2 3 9 7 5 4 0]\n",
            "Z2: [6 9 7 3 3 1 4 1 1 1]\n",
            "Common Values: [1 3 4 7 9]\n"
          ]
        }
      ]
    },
    {
      "cell_type": "code",
      "source": [
        "#  Consider two random array A and B, check if they are equal\n",
        "A = np.random.randint(0, 2, 5)\n",
        "B = np.random.randint(0, 2, 5)\n",
        "\n",
        "# Check if arrays A and B are equal\n",
        "are_equal = np.array_equal(A, B)\n",
        "\n",
        "# Print the arrays and the result of the equality check\n",
        "print(\"Array A:\", A)\n",
        "print(\"Array B:\", B)\n",
        "print(\"Arrays are equal:\", are_equal)\n",
        "\n",
        "\n",
        "pass"
      ],
      "metadata": {
        "id": "RWWspnDAwWGV",
        "colab": {
          "base_uri": "https://localhost:8080/"
        },
        "outputId": "6299d67d-a9b0-4a86-eb7f-d19d52f2e5e3"
      },
      "execution_count": null,
      "outputs": [
        {
          "output_type": "stream",
          "name": "stdout",
          "text": [
            "Array A: [1 1 1 1 0]\n",
            "Array B: [0 1 0 0 1]\n",
            "Arrays are equal: False\n"
          ]
        }
      ]
    },
    {
      "cell_type": "code",
      "source": [
        "# Stack arrays a and b vertically\n",
        "# your code here\n",
        "a = np.array([1, 2, 3])\n",
        "b = np.array([4, 5, 6])\n",
        "\n",
        "# Stack arrays a and b vertically\n",
        "stacked_array = np.vstack((a, b))\n",
        "\n",
        "# Print the stacked array\n",
        "print(stacked_array)\n",
        "\n",
        "pass"
      ],
      "metadata": {
        "id": "SW3KvPXhoeie",
        "colab": {
          "base_uri": "https://localhost:8080/"
        },
        "outputId": "3b002a1b-5c39-4746-b5d5-8b6c33c7b18a"
      },
      "execution_count": null,
      "outputs": [
        {
          "output_type": "stream",
          "name": "stdout",
          "text": [
            "[[1 2 3]\n",
            " [4 5 6]]\n"
          ]
        }
      ]
    },
    {
      "cell_type": "code",
      "source": [
        "# Stack the arrays a and b horizontally.\n",
        "# your code here\n",
        "a = np.array([1, 2, 3])\n",
        "b = np.array([4, 5, 6])\n",
        "\n",
        "# Stack arrays a and b horizontally\n",
        "stacked_array = np.hstack((a, b))\n",
        "\n",
        "# Print the stacked array\n",
        "print(stacked_array)\n",
        "\n",
        "pass"
      ],
      "metadata": {
        "id": "6wVOpIT9omwe",
        "colab": {
          "base_uri": "https://localhost:8080/"
        },
        "outputId": "2c763513-4359-40e3-febd-4914d8fc0196"
      },
      "execution_count": null,
      "outputs": [
        {
          "output_type": "stream",
          "name": "stdout",
          "text": [
            "[1 2 3 4 5 6]\n"
          ]
        }
      ]
    },
    {
      "cell_type": "code",
      "source": [
        "# Get all items between 5 and 10 from array tmp.\n",
        "# your code here\n",
        "#import numpy as np\n",
        "#tmp = np.arange(15)\n",
        "\n",
        "# Create a NumPy array\n",
        "tmp = np.array([1, 3, 7, 8, 5, 6, 2, 9, 4, 10])\n",
        "\n",
        "# Get all items between 5 and 10\n",
        "result = tmp[(tmp >= 5) & (tmp <= 10)]\n",
        "print(result)\n",
        "\n",
        "# pass"
      ],
      "metadata": {
        "id": "L_7vMkGOo0gX",
        "colab": {
          "base_uri": "https://localhost:8080/"
        },
        "outputId": "862a5ff2-2625-44b6-e6ee-62acfac37e93"
      },
      "execution_count": null,
      "outputs": [
        {
          "output_type": "stream",
          "name": "stdout",
          "text": [
            "[ 7  8  5  6  9 10]\n"
          ]
        }
      ]
    },
    {
      "cell_type": "code",
      "source": [
        "# How to make a python function that handles scalars to work on numpy arrays?\n",
        "# Hint\n",
        "# Desired Output:\n",
        "# a = np.array([5, 7, 9, 8, 6, 4, 5])\n",
        "# b = np.array([6, 3, 4, 8, 9, 7, 1])\n",
        "# pair_max(a, b)\n",
        "# #> array([ 6.,  7.,  9.,  8.,  9.,  7.,  5.])\n",
        "\n",
        "# your code here\n",
        "#import numpy as np\n",
        "#def maxx(x, y):\n",
        "#    \"\"\"Get the maximum of two items\"\"\"\n",
        "#    if x >= y:\n",
        "#        return x\n",
        "#    else:\n",
        "#        return y\n",
        "#maxx(1, 5)\n",
        "\n",
        "def pair_max(a, b):\n",
        "    # Use numpy.maximum to find the element-wise maximum between a and b\n",
        "    result = np.maximum(a, b)\n",
        "    return result\n",
        "\n",
        "# Test the function with NumPy arrays\n",
        "a = np.array([5, 7, 9, 8, 6, 4, 5])\n",
        "b = np.array([6, 3, 4, 8, 9, 7, 1])\n",
        "\n",
        "output = pair_max(a, b)\n",
        "print(output)\n",
        "\n"
      ],
      "metadata": {
        "colab": {
          "base_uri": "https://localhost:8080/"
        },
        "id": "FVZz6ZY0p9ya",
        "outputId": "d86c1339-2f55-4352-cd3b-720a7f0a98a1"
      },
      "execution_count": null,
      "outputs": [
        {
          "output_type": "stream",
          "name": "stdout",
          "text": [
            "[6 7 9 8 9 7 5]\n"
          ]
        }
      ]
    },
    {
      "cell_type": "code",
      "source": [
        "# Swap columns 1 and 2 in the array arr.\n",
        "# Hint\n",
        "# Desired Output:\n",
        "# [[0 2 1]\n",
        "#  [3 5 4]\n",
        "#  [6 8 7]]\n",
        "# your code here\n",
        "\n",
        "# Create a NumPy array\n",
        "arr = np.array([[0, 1, 2],\n",
        "                [3, 4, 5],\n",
        "                [6, 7, 8]])\n",
        "\n",
        "# Swap columns 1 and 2\n",
        "arr[:, [1, 2]] = arr[:, [2, 1]]\n",
        "\n",
        "# Print the modified array\n",
        "print(arr)\n",
        "\n",
        "pass\n"
      ],
      "metadata": {
        "colab": {
          "base_uri": "https://localhost:8080/"
        },
        "outputId": "994aef51-279e-4eed-ddb0-24111dd609ce",
        "id": "8vIzM5e8ql6i"
      },
      "execution_count": null,
      "outputs": [
        {
          "output_type": "stream",
          "name": "stdout",
          "text": [
            "[[0 2 1]\n",
            " [3 5 4]\n",
            " [6 8 7]]\n"
          ]
        }
      ]
    },
    {
      "cell_type": "code",
      "source": [
        "# Create a 2D array of shape 5x3 to contain random decimal numbers between 5 and 10.\n",
        "# Hint\n",
        "# The desired Output should be like the following one:\n",
        "#  [[ 8.50061025  9.10531502  6.85867783]\n",
        "#   [ 9.76262069  9.87717411  7.13466701]\n",
        "#   [ 7.48966403  8.33409158  6.16808631]\n",
        "#   [ 7.75010551  9.94535696  5.27373226]\n",
        "#   [ 8.0850361   5.56165518  7.31244004]]\n",
        "\n",
        "import numpy as np\n",
        "\n",
        "# Create a 2D array of shape 5x3 with random decimal numbers between 5 and 10\n",
        "random_array = np.random.uniform(5, 10, size=(5, 3))\n",
        "\n",
        "# Print the generated array\n",
        "print(random_array)\n"
      ],
      "metadata": {
        "id": "FOXX5b17rY7E",
        "colab": {
          "base_uri": "https://localhost:8080/"
        },
        "outputId": "b966df13-5cfb-4cb1-dcef-23a6f59cf25f"
      },
      "execution_count": null,
      "outputs": [
        {
          "output_type": "stream",
          "name": "stdout",
          "text": [
            "[[9.49397026 8.23070182 7.84457031]\n",
            " [9.33756889 7.99563292 8.73877936]\n",
            " [9.97343675 9.73800278 8.8631731 ]\n",
            " [5.44604315 8.41449681 9.04021147]\n",
            " [9.30044665 9.69309476 5.01619021]]\n"
          ]
        }
      ]
    }
  ]
}