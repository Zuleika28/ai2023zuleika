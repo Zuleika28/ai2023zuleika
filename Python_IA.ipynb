{
  "nbformat": 4,
  "nbformat_minor": 0,
  "metadata": {
    "colab": {
      "provenance": [],
      "include_colab_link": true
    },
    "kernelspec": {
      "name": "python3",
      "display_name": "Python 3"
    },
    "language_info": {
      "name": "python"
    }
  },
  "cells": [
    {
      "cell_type": "markdown",
      "metadata": {
        "id": "view-in-github",
        "colab_type": "text"
      },
      "source": [
        "<a href=\"https://colab.research.google.com/github/Zuleika28/ai2023zuleika/blob/main/Python_IA.ipynb\" target=\"_parent\"><img src=\"https://colab.research.google.com/assets/colab-badge.svg\" alt=\"Open In Colab\"/></a>"
      ]
    },
    {
      "cell_type": "code",
      "execution_count": null,
      "metadata": {
        "colab": {
          "base_uri": "https://localhost:8080/"
        },
        "id": "OFiRtyIxRX7m",
        "outputId": "65b61e65-bf44-4d69-de19-c73bbd71aaac"
      },
      "outputs": [
        {
          "output_type": "stream",
          "name": "stdout",
          "text": [
            "Python 3.10.12 (main, Jun 11 2023, 05:26:28) [GCC 11.4.0] on linux\n",
            "Type \"help\", \"copyright\", \"credits\" or \"license\" for more information.\n",
            ">>> \n",
            "\n",
            "KeyboardInterrupt\n",
            ">>> \n",
            "KeyboardInterrupt\n",
            "^C\n"
          ]
        }
      ],
      "source": [
        "!python --version"
      ]
    },
    {
      "cell_type": "code",
      "source": [
        "myVariable_1=4\n",
        "myVariable_2=6\n",
        "\n",
        "print(myVariable_1+myVariable_2)\n",
        "print(myVariable_1-myVariable_2)\n",
        "print(myVariable_1*myVariable_2)\n",
        "print(myVariable_1**myVariable_2)\n",
        "print(myVariable_1/myVariable_2)\n"
      ],
      "metadata": {
        "colab": {
          "base_uri": "https://localhost:8080/"
        },
        "id": "Fvrh8EOdR6h2",
        "outputId": "9ab51871-9c04-42c8-ad57-50f648c4e272"
      },
      "execution_count": null,
      "outputs": [
        {
          "output_type": "stream",
          "name": "stdout",
          "text": [
            "10\n",
            "-2\n",
            "24\n",
            "4096\n",
            "0.6666666666666666\n"
          ]
        }
      ]
    },
    {
      "cell_type": "code",
      "source": [
        "aux1=True\n",
        "aux2=False\n",
        "\n",
        "print(aux1 and aux2)\n",
        "print(aux1 or aux2)\n",
        "print(not aux1)"
      ],
      "metadata": {
        "colab": {
          "base_uri": "https://localhost:8080/"
        },
        "id": "rRv9L4ReSyPf",
        "outputId": "3c2fc7c8-37cf-4059-f3bd-8882f4c5e7a1"
      },
      "execution_count": null,
      "outputs": [
        {
          "output_type": "stream",
          "name": "stdout",
          "text": [
            "False\n",
            "True\n",
            "False\n"
          ]
        }
      ]
    },
    {
      "cell_type": "code",
      "source": [
        "myNameIs=\"Angie Zambrano\"\n",
        "print(myNameIs)\n",
        "\n",
        "print(myNameIs.upper())\n",
        "\n",
        "print(myNameIs.lower())"
      ],
      "metadata": {
        "colab": {
          "base_uri": "https://localhost:8080/"
        },
        "id": "Sbo7VBUJTaGB",
        "outputId": "2c8f7229-4a08-4f03-f844-27815b9ef6f9"
      },
      "execution_count": null,
      "outputs": [
        {
          "output_type": "stream",
          "name": "stdout",
          "text": [
            "Angie Zambrano\n",
            "ANGIE ZAMBRANO\n",
            "angie zambrano\n"
          ]
        }
      ]
    },
    {
      "cell_type": "code",
      "source": [
        "tmp=\"Angie, Zuleika, Ericka\"\n",
        "print(tmp)\n",
        "print(tmp.split(\",\"))"
      ],
      "metadata": {
        "colab": {
          "base_uri": "https://localhost:8080/"
        },
        "id": "DpAPJ_QZUpUI",
        "outputId": "f0c01d9d-86f9-4694-8f16-40a9d00275dc"
      },
      "execution_count": null,
      "outputs": [
        {
          "output_type": "stream",
          "name": "stdout",
          "text": [
            "Angie, Zuleika, Ericka\n",
            "['Angie', ' Zuleika', ' Ericka']\n"
          ]
        }
      ]
    },
    {
      "cell_type": "code",
      "source": [
        "listaUtiles=[\"Cuaderno\",\"Borrador\",\"Lápiz\",\"Regla\"]\n",
        "print(listaUtiles)\n",
        "listaUtiles.append(\"Computadora\")\n",
        "print(listaUtiles)\n",
        "#print(listaUtiles[3])\n",
        "\n",
        "#listaUtiles.pop(3)\n",
        "#Para realizar coentarios\n",
        "del listaUtiles[2]\n",
        "print(listaUtiles)"
      ],
      "metadata": {
        "colab": {
          "base_uri": "https://localhost:8080/"
        },
        "id": "57kU1pKoU0lg",
        "outputId": "c0b7ce2a-288b-438b-92ff-c88beaddba1d"
      },
      "execution_count": null,
      "outputs": [
        {
          "output_type": "stream",
          "name": "stdout",
          "text": [
            "['Cuaderno', 'Borrador', 'Lápiz', 'Regla']\n",
            "['Cuaderno', 'Borrador', 'Lápiz', 'Regla', 'Computadora']\n",
            "['Cuaderno', 'Borrador', 'Regla', 'Computadora']\n"
          ]
        }
      ]
    },
    {
      "cell_type": "code",
      "source": [
        "from re import MULTILINE\n",
        "myList=list(range(15))\n",
        "print(myList)\n",
        "print(myList[4:11])\n",
        "print(myList[-2])"
      ],
      "metadata": {
        "colab": {
          "base_uri": "https://localhost:8080/"
        },
        "id": "60a_kM44Y-GB",
        "outputId": "5b833f9d-d82a-4cc7-c00d-2a7c23cebdfd"
      },
      "execution_count": null,
      "outputs": [
        {
          "output_type": "stream",
          "name": "stdout",
          "text": [
            "[0, 1, 2, 3, 4, 5, 6, 7, 8, 9, 10, 11, 12, 13, 14]\n",
            "[4, 5, 6, 7, 8, 9, 10]\n",
            "13\n"
          ]
        }
      ]
    },
    {
      "cell_type": "code",
      "source": [
        "myDictionary={\"cat\" : \"cute\",\"dog\":\"fat\",\"lion\":\"strong\"}\n",
        "\n",
        "print(type(myDictionary))\n",
        "\n",
        "for key, value in myDictionary.items():\n",
        "  print(f'key {key}, value {value}')\n",
        "  print('key %s, value %s'%(key, value))\n",
        "  print('the key is: {} and the value: {}'.format(key, value))\n",
        "myDictionary['monkey']='so cute'\n",
        "\n",
        "print('---------------------')\n",
        "print(myDictionary)"
      ],
      "metadata": {
        "colab": {
          "base_uri": "https://localhost:8080/"
        },
        "id": "tP34x9AWJwuN",
        "outputId": "25d399fe-e67b-4f67-8915-ebb56e9bbbe8"
      },
      "execution_count": null,
      "outputs": [
        {
          "output_type": "stream",
          "name": "stdout",
          "text": [
            "<class 'dict'>\n",
            "key cat, value cute\n",
            "key cat, value cute\n",
            "the key is: cat and the value: cute\n",
            "key dog, value fat\n",
            "key dog, value fat\n",
            "the key is: dog and the value: fat\n",
            "key lion, value strong\n",
            "key lion, value strong\n",
            "the key is: lion and the value: strong\n",
            "---------------------\n",
            "{'cat': 'cute', 'dog': 'fat', 'lion': 'strong', 'monkey': 'so cute'}\n"
          ]
        }
      ]
    },
    {
      "cell_type": "code",
      "source": [
        "tmp=list()\n",
        "\n",
        "for i in range(1,101,1):\n",
        "  if i%2==0:\n",
        "    tmp.append(i)\n",
        "print(tmp)\n",
        "print('---------------------')\n",
        "aux=[i for i in range (1,101) if i%2==0]\n",
        "print(aux)"
      ],
      "metadata": {
        "colab": {
          "base_uri": "https://localhost:8080/"
        },
        "id": "vLm4z6MhJ1ls",
        "outputId": "b23d0510-2b67-44f7-f549-783fe3e210c2"
      },
      "execution_count": null,
      "outputs": [
        {
          "output_type": "stream",
          "name": "stdout",
          "text": [
            "[2, 4, 6, 8, 10, 12, 14, 16, 18, 20, 22, 24, 26, 28, 30, 32, 34, 36, 38, 40, 42, 44, 46, 48, 50, 52, 54, 56, 58, 60, 62, 64, 66, 68, 70, 72, 74, 76, 78, 80, 82, 84, 86, 88, 90, 92, 94, 96, 98, 100]\n",
            "---------------------\n",
            "[2, 4, 6, 8, 10, 12, 14, 16, 18, 20, 22, 24, 26, 28, 30, 32, 34, 36, 38, 40, 42, 44, 46, 48, 50, 52, 54, 56, 58, 60, 62, 64, 66, 68, 70, 72, 74, 76, 78, 80, 82, 84, 86, 88, 90, 92, 94, 96, 98, 100]\n"
          ]
        }
      ]
    },
    {
      "cell_type": "code",
      "source": [
        "tmpList=[i**2 for i in range(1,101) if i%2==0]\n",
        "print(tmpList)"
      ],
      "metadata": {
        "colab": {
          "base_uri": "https://localhost:8080/"
        },
        "id": "J3lq9lmdJ8L0",
        "outputId": "e1d164e0-d2ef-49cd-8391-be9ed0d73d9f"
      },
      "execution_count": null,
      "outputs": [
        {
          "output_type": "stream",
          "name": "stdout",
          "text": [
            "[4, 16, 36, 64, 100, 144, 196, 256, 324, 400, 484, 576, 676, 784, 900, 1024, 1156, 1296, 1444, 1600, 1764, 1936, 2116, 2304, 2500, 2704, 2916, 3136, 3364, 3600, 3844, 4096, 4356, 4624, 4900, 5184, 5476, 5776, 6084, 6400, 6724, 7056, 7396, 7744, 8100, 8464, 8836, 9216, 9604, 10000]\n"
          ]
        }
      ]
    },
    {
      "cell_type": "code",
      "source": [
        "def upperCase(valString):\n",
        "  pass"
      ],
      "metadata": {
        "id": "lDuAWtnJKAT0"
      },
      "execution_count": null,
      "outputs": []
    }
  ]
}