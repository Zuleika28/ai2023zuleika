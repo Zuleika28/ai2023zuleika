{
  "nbformat": 4,
  "nbformat_minor": 0,
  "metadata": {
    "colab": {
      "provenance": [],
      "include_colab_link": true
    },
    "kernelspec": {
      "name": "python3",
      "display_name": "Python 3"
    },
    "language_info": {
      "name": "python"
    }
  },
  "cells": [
    {
      "cell_type": "markdown",
      "metadata": {
        "id": "view-in-github",
        "colab_type": "text"
      },
      "source": [
        "<a href=\"https://colab.research.google.com/github/Zuleika28/ai2023zuleika/blob/main/Leccion1_(1).ipynb\" target=\"_parent\"><img src=\"https://colab.research.google.com/assets/colab-badge.svg\" alt=\"Open In Colab\"/></a>"
      ]
    },
    {
      "cell_type": "code",
      "execution_count": null,
      "metadata": {
        "colab": {
          "base_uri": "https://localhost:8080/"
        },
        "id": "u4QGXHIAWi8N",
        "outputId": "63cdcc03-69eb-4f06-f8eb-8b7e9a6831b2"
      },
      "outputs": [
        {
          "output_type": "stream",
          "name": "stdout",
          "text": [
            "NumPy version: 1.23.5\n"
          ]
        }
      ],
      "source": [
        "import numpy as np\n",
        "\n",
        "print(\"NumPy version:\", np.__version__)\n"
      ]
    },
    {
      "cell_type": "code",
      "source": [
        "array_1d = np.arange(10)\n",
        "print(array_1d)"
      ],
      "metadata": {
        "colab": {
          "base_uri": "https://localhost:8080/"
        },
        "id": "xND6pEhxYQpy",
        "outputId": "b17d00ac-3cc8-4dab-a662-0d746fba0a44"
      },
      "execution_count": null,
      "outputs": [
        {
          "output_type": "stream",
          "name": "stdout",
          "text": [
            "[0 1 2 3 4 5 6 7 8 9]\n"
          ]
        }
      ]
    },
    {
      "cell_type": "code",
      "source": [
        "import numpy as np\n",
        "#crea\n",
        "random_vector = np.random.rand(10)\n",
        "#Encuentra indice\n",
        "max_index = np.argmax(random_vector)\n",
        "#remplaza\n",
        "random_vector[max_index] = 0\n",
        "#imprime\n",
        "print(\"Vector original:\")\n",
        "print(random_vector)"
      ],
      "metadata": {
        "colab": {
          "base_uri": "https://localhost:8080/"
        },
        "id": "0u8D46urYagK",
        "outputId": "c356feb6-31ca-47a3-93a4-d24cef9c3851"
      },
      "execution_count": null,
      "outputs": [
        {
          "output_type": "stream",
          "name": "stdout",
          "text": [
            "Vector original:\n",
            "[0.1975743  0.36382052 0.28830126 0.56920481 0.36877508 0.48720347\n",
            " 0.         0.07097495 0.75478667 0.37319886]\n"
          ]
        }
      ]
    },
    {
      "cell_type": "code",
      "source": [
        "import numpy as np\n",
        "# define\n",
        "arr = np.array([[1, 2, 3, 4, 5], [6, 7, 8, 9, 10]])\n",
        "#imprime\n",
        "print(\"Número 8 del array:\", arr[1, 2])"
      ],
      "metadata": {
        "id": "s75xJxDxY9bk"
      },
      "execution_count": null,
      "outputs": []
    },
    {
      "cell_type": "code",
      "source": [
        "import numpy as np\n",
        "\n",
        "arr = np.array([1, 2, 3, 4, 5, 6, 7])\n",
        "\n",
        " # crea el array multidimensional\n",
        "arr_2d = arr.reshape(7, 1)\n",
        "\n",
        "print(\"Números [3, 4, 5] del array:\")\n",
        "print(arr_2d[2:5, 0])"
      ],
      "metadata": {
        "colab": {
          "base_uri": "https://localhost:8080/"
        },
        "id": "vW1kFTSlZpX6",
        "outputId": "3d397e7d-a24e-4368-e1c3-5ea05fca69bc"
      },
      "execution_count": null,
      "outputs": [
        {
          "output_type": "stream",
          "name": "stdout",
          "text": [
            "Números [3, 4, 5] del array:\n",
            "[3 4 5]\n"
          ]
        }
      ]
    },
    {
      "cell_type": "code",
      "source": [
        "import numpy as np\n",
        "\n",
        "arr = np.array([1, 2, 3, 4, 5, 6, 7])\n",
        "\n",
        "print(\"Últimos 4 números del array:\")\n",
        "print(arr[-4:])"
      ],
      "metadata": {
        "colab": {
          "base_uri": "https://localhost:8080/"
        },
        "id": "DkUmOWvYZpoW",
        "outputId": "3a962f6b-ac19-4ef5-c806-fd66d48f2015"
      },
      "execution_count": null,
      "outputs": [
        {
          "output_type": "stream",
          "name": "stdout",
          "text": [
            "Últimos 4 números del array:\n",
            "[4 5 6 7]\n"
          ]
        }
      ]
    },
    {
      "cell_type": "code",
      "source": [
        "import numpy as np\n",
        "\n",
        "true_matrix = np.ones((3, 3), dtype=bool)\n",
        "\n",
        "print(\"Matriz de 3x3 con todos los valores como True:\")\n",
        "print(true_matrix)"
      ],
      "metadata": {
        "colab": {
          "base_uri": "https://localhost:8080/"
        },
        "id": "JdZtq4idZpzC",
        "outputId": "5dfb4e37-268f-46af-c9de-05b865d6aed7"
      },
      "execution_count": null,
      "outputs": [
        {
          "output_type": "stream",
          "name": "stdout",
          "text": [
            "Matriz de 3x3 con todos los valores como True:\n",
            "[[ True  True  True]\n",
            " [ True  True  True]\n",
            " [ True  True  True]]\n"
          ]
        }
      ]
    },
    {
      "cell_type": "code",
      "source": [
        "import numpy as np\n",
        "#Numeros impares\n",
        "arr = np.array([1, 2, 3, 4, 5, 6, 7, 8, 9])\n",
        "\n",
        "odd_numbers = arr[arr % 2 != 0]\n",
        "\n",
        "print(\"Números impares del array:\", odd_numbers)"
      ],
      "metadata": {
        "colab": {
          "base_uri": "https://localhost:8080/"
        },
        "id": "okAKhFiaZp2b",
        "outputId": "ff7106aa-e7c6-4c94-948c-6f5ea3277236"
      },
      "execution_count": null,
      "outputs": [
        {
          "output_type": "stream",
          "name": "stdout",
          "text": [
            "Números impares del array: [1 3 5 7 9]\n"
          ]
        }
      ]
    },
    {
      "cell_type": "code",
      "source": [
        "import numpy as np\n",
        "\n",
        "# Vector\n",
        "vector = np.arange(10, 50)\n",
        "\n",
        "print(\"Vector con valores desde 10 hasta 49:\")\n",
        "print(vector)"
      ],
      "metadata": {
        "colab": {
          "base_uri": "https://localhost:8080/"
        },
        "id": "n_-ssTNSbJCk",
        "outputId": "02793021-4338-4883-b65c-6661f79aa710"
      },
      "execution_count": null,
      "outputs": [
        {
          "output_type": "stream",
          "name": "stdout",
          "text": [
            "Vector con valores desde 10 hasta 49:\n",
            "[10 11 12 13 14 15 16 17 18 19 20 21 22 23 24 25 26 27 28 29 30 31 32 33\n",
            " 34 35 36 37 38 39 40 41 42 43 44 45 46 47 48 49]\n"
          ]
        }
      ]
    },
    {
      "cell_type": "code",
      "source": [
        "import numpy as np\n",
        "\n",
        "# Definir el vector\n",
        "vector = np.array([1, 2, 3, 4, 5])\n",
        "\n",
        "# Revertir el vector\n",
        "vector_reversed = np.flip(vector)\n",
        "\n",
        "# Imprimir el vector revertido\n",
        "print(\"Vector revertido:\", vector_reversed)"
      ],
      "metadata": {
        "colab": {
          "base_uri": "https://localhost:8080/"
        },
        "id": "Yfh7J2jgbJX7",
        "outputId": "168e4d0b-5d54-458d-bba9-76d036f4bcf1"
      },
      "execution_count": null,
      "outputs": [
        {
          "output_type": "stream",
          "name": "stdout",
          "text": [
            "Vector revertido: [5 4 3 2 1]\n"
          ]
        }
      ]
    },
    {
      "cell_type": "code",
      "source": [
        "import numpy as np\n",
        "\n",
        "random_matrix = np.random.randint(0, 100, size=(10, 10))\n",
        "\n",
        "min_value = np.min(random_matrix)\n",
        "max_value = np.max(random_matrix)\n",
        "\n",
        "print(\"Matriz de 10x10 con valores enteros aleatorios:\")\n",
        "print(random_matrix)\n",
        "print(\"Valor mínimo en la matriz:\", min_value)\n",
        "\n",
        "print(\"Valor máximo en la matriz:\", max_value)"
      ],
      "metadata": {
        "colab": {
          "base_uri": "https://localhost:8080/"
        },
        "id": "qrmWH08AbJh4",
        "outputId": "c8c17eab-a709-4c29-c792-7ad394915f0c"
      },
      "execution_count": null,
      "outputs": [
        {
          "output_type": "stream",
          "name": "stdout",
          "text": [
            "Matriz de 10x10 con valores enteros aleatorios:\n",
            "[[28 80 90  3 38 70 52 96 20 81]\n",
            " [70 96 91 73  1  4  5 30 49 19]\n",
            " [82 54 59 87 86 37 84 90 24 15]\n",
            " [57 62 11 34 91 91 26 79 56 36]\n",
            " [89 78  0 74 95 55 89 48 24 70]\n",
            " [21 69 90 87 29  5  4 51 77  8]\n",
            " [63 47 41 86 73 12 27 69 82 92]\n",
            " [90 47 99 14 88 55 18 15 34 98]\n",
            " [10 85 93 18 90 24 96 77 76 35]\n",
            " [96  9 18 66 38 96 91 67 66  1]]\n",
            "Valor mínimo en la matriz: 0\n",
            "Valor máximo en la matriz: 99\n"
          ]
        }
      ]
    },
    {
      "cell_type": "code",
      "source": [
        "import numpy as np\n",
        "#tridimencional\n",
        "random_array = np.random.rand(3, 3, 3)\n",
        "\n",
        "print(\"Array tridimensional de 3x3x3 con valores aleatorios:\")\n",
        "print(random_array)"
      ],
      "metadata": {
        "id": "PkTC8I-jbJlg"
      },
      "execution_count": null,
      "outputs": []
    },
    {
      "cell_type": "code",
      "source": [
        "import numpy as np\n",
        "\n",
        "arr = np.array([1, 2, 3, 4, 5, 6, 7, 8, 9])\n",
        "\n",
        "# Reemplaza impares\n",
        "arr[arr % 2 != 0] = -1\n",
        "\n",
        "print(\"Array con números impares reemplazados por -1:\")\n",
        "print(arr)"
      ],
      "metadata": {
        "colab": {
          "base_uri": "https://localhost:8080/"
        },
        "id": "Z1r-6-LgbJtC",
        "outputId": "c3492738-8e90-4f2e-9c30-c739f3e60a63"
      },
      "execution_count": null,
      "outputs": [
        {
          "output_type": "stream",
          "name": "stdout",
          "text": [
            "Array con números impares reemplazados por -1:\n",
            "[-1  2 -1  4 -1  6 -1  8 -1]\n"
          ]
        }
      ]
    },
    {
      "cell_type": "code",
      "source": [
        "import numpy as np\n",
        "\n",
        "# Crear un array de tipo float\n",
        "float_array = np.array([1.1, 2.2, 3.3, 4.4, 5.5])\n",
        "\n",
        "# Imprimir el array\n",
        "print(\"Array de tipo float:\")\n",
        "print(float_array)"
      ],
      "metadata": {
        "colab": {
          "base_uri": "https://localhost:8080/"
        },
        "id": "6hsJHekTdX45",
        "outputId": "2ab2f198-3829-4f24-d854-de16cf58243c"
      },
      "execution_count": null,
      "outputs": [
        {
          "output_type": "stream",
          "name": "stdout",
          "text": [
            "Array de tipo float:\n",
            "[1.1 2.2 3.3 4.4 5.5]\n"
          ]
        }
      ]
    },
    {
      "cell_type": "code",
      "source": [
        "import numpy as np\n",
        "\n",
        "#  unidimensional\n",
        "array_1d = np.array([1, 2, 3, 4, 5, 6, 7, 8])\n",
        "\n",
        "# Convertir unidimensional a bidimensional\n",
        "array_2d = array_1d.reshape(2, -1)\n",
        "\n",
        "print(\"Array bidimensional con 2 filas:\")\n",
        "print(array_2d)"
      ],
      "metadata": {
        "colab": {
          "base_uri": "https://localhost:8080/"
        },
        "id": "LRLX1SXhdxmW",
        "outputId": "0d12b8bc-ff48-48df-c474-4b675d0ee1c1"
      },
      "execution_count": null,
      "outputs": [
        {
          "output_type": "stream",
          "name": "stdout",
          "text": [
            "Array bidimensional con 2 filas:\n",
            "[[1 2 3 4]\n",
            " [5 6 7 8]]\n"
          ]
        }
      ]
    },
    {
      "cell_type": "code",
      "source": [
        "import numpy as np\n",
        "\n",
        "a = np.array([1, 2, 3])\n",
        "b = np.array([4, 5, 6])\n",
        "\n",
        "resultado = np.vstack((a, b))\n",
        "\n",
        "print(\"verticalmente:\")\n",
        "print(resultado)"
      ],
      "metadata": {
        "colab": {
          "base_uri": "https://localhost:8080/"
        },
        "id": "9Rzj6_1-enJM",
        "outputId": "502fbf24-66f1-4570-fd47-84da0221eb87"
      },
      "execution_count": null,
      "outputs": [
        {
          "output_type": "stream",
          "name": "stdout",
          "text": [
            "verticalmente:\n",
            "[[1 2 3]\n",
            " [4 5 6]]\n"
          ]
        }
      ]
    },
    {
      "cell_type": "code",
      "source": [
        "import numpy as np\n",
        "\n",
        "a = np.array([1, 2, 3])\n",
        "b = np.array([4, 5, 6])\n",
        "\n",
        "resultado = np.hstack((a, b))\n",
        "\n",
        "print(\"horizontalmente:\")\n",
        "print(resultado)"
      ],
      "metadata": {
        "colab": {
          "base_uri": "https://localhost:8080/"
        },
        "id": "yxEgXfxwe548",
        "outputId": "fdace15b-f928-4daf-e24f-11b31c4dc100"
      },
      "execution_count": null,
      "outputs": [
        {
          "output_type": "stream",
          "name": "stdout",
          "text": [
            "horizontalmente:\n",
            "[1 2 3 4 5 6]\n"
          ]
        }
      ]
    },
    {
      "cell_type": "code",
      "source": [
        "import numpy as np\n",
        "\n",
        "tmp = np.arange(15)\n",
        "result = tmp[5:11]\n",
        "\n",
        "print(result)"
      ],
      "metadata": {
        "colab": {
          "base_uri": "https://localhost:8080/"
        },
        "id": "cNdPlzgm9ykU",
        "outputId": "b7c988e1-ebf7-4e6b-eb2d-3e274cd9d91d"
      },
      "execution_count": null,
      "outputs": [
        {
          "output_type": "stream",
          "name": "stdout",
          "text": [
            "[ 5  6  7  8  9 10]\n"
          ]
        }
      ]
    },
    {
      "cell_type": "code",
      "source": [
        "# Hint\n",
        "# Desired Output:\n",
        "# a = np.array([5, 7, 9, 8, 6, 4, 5])\n",
        "# b = np.array([6, 3, 4, 8, 9, 7, 1])\n",
        "# pair_max(a, b)\n",
        "# #> array([ 6.,  7.,  9.,  8.,  9.,  7.,  5.])\n",
        "\n",
        "\n",
        "# your code here\n",
        "import numpy as np\n",
        "\n",
        "def maxx(x, y):\n",
        "    \"\"\"Get the maximum of two items\"\"\"\n",
        "    if x >= y:\n",
        "        return x\n",
        "    else:\n",
        "        return y\n",
        "\n",
        "maxx(1, 5)"
      ],
      "metadata": {
        "colab": {
          "base_uri": "https://localhost:8080/"
        },
        "id": "01yxccd5-cHR",
        "outputId": "d83ccf3c-17b9-413b-b0d2-3dce66941986"
      },
      "execution_count": null,
      "outputs": [
        {
          "output_type": "execute_result",
          "data": {
            "text/plain": [
              "5"
            ]
          },
          "metadata": {},
          "execution_count": 5
        }
      ]
    },
    {
      "cell_type": "code",
      "source": [
        "# Swap columns 1 and 2 in the array arr.\n",
        "# Hint\n",
        "# Desired Output:\n",
        "# [[0 2 1]\n",
        "#  [3 5 4]\n",
        "#  [6 8 7]]\n",
        "\n",
        "\n",
        "arr = np.arange(9).reshape(3,3)\n",
        "print(arr)\n",
        "# your code here\n",
        "pass"
      ],
      "metadata": {
        "colab": {
          "base_uri": "https://localhost:8080/"
        },
        "id": "RzEts9Vq_wkU",
        "outputId": "ba3aa757-6656-48dd-a266-22deaeba23e8"
      },
      "execution_count": null,
      "outputs": [
        {
          "output_type": "stream",
          "name": "stdout",
          "text": [
            "[[0 1 2]\n",
            " [3 4 5]\n",
            " [6 7 8]]\n"
          ]
        }
      ]
    },
    {
      "cell_type": "code",
      "source": [
        "import numpy as np\n",
        "\n",
        "# Establecer la semilla para reproducibilidad\n",
        "np.random.seed(42)\n",
        "\n",
        "# Crear una matriz de 5x3 con números decimales aleatorios entre 5 y 10\n",
        "matriz_aleatoria = np.random.uniform(5, 10, size=(5, 3))\n",
        "print(matriz_aleatoria)"
      ],
      "metadata": {
        "colab": {
          "base_uri": "https://localhost:8080/"
        },
        "id": "nESG8jgC_yk8",
        "outputId": "25ebc344-ba7a-45f9-aaa8-886392c7936a"
      },
      "execution_count": null,
      "outputs": [
        {
          "output_type": "stream",
          "name": "stdout",
          "text": [
            "[[6.87270059 9.75357153 8.65996971]\n",
            " [7.99329242 5.7800932  5.7799726 ]\n",
            " [5.29041806 9.33088073 8.00557506]\n",
            " [8.54036289 5.10292247 9.84954926]\n",
            " [9.1622132  6.06169555 5.90912484]]\n"
          ]
        }
      ]
    }
  ]
}