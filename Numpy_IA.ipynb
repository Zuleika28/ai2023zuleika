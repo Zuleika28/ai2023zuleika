{
  "nbformat": 4,
  "nbformat_minor": 0,
  "metadata": {
    "colab": {
      "provenance": [],
      "include_colab_link": true
    },
    "kernelspec": {
      "name": "python3",
      "display_name": "Python 3"
    },
    "language_info": {
      "name": "python"
    }
  },
  "cells": [
    {
      "cell_type": "markdown",
      "metadata": {
        "id": "view-in-github",
        "colab_type": "text"
      },
      "source": [
        "<a href=\"https://colab.research.google.com/github/Zuleika28/ai2023zuleika/blob/main/Numpy_IA.ipynb\" target=\"_parent\"><img src=\"https://colab.research.google.com/assets/colab-badge.svg\" alt=\"Open In Colab\"/></a>"
      ]
    },
    {
      "cell_type": "code",
      "execution_count": null,
      "metadata": {
        "colab": {
          "base_uri": "https://localhost:8080/"
        },
        "id": "Xmk5_BS_IYqF",
        "outputId": "a41b71e1-5b1a-44ae-ab72-1904b3fd5fb5"
      },
      "outputs": [
        {
          "output_type": "stream",
          "name": "stdout",
          "text": [
            "[1 2 4 5]\n",
            "(4,)\n",
            "(2, 4)\n",
            "[[1 2 3 4]\n",
            " [1 2 3 4]]\n",
            "<class 'numpy.ndarray'>\n",
            "[[0. 0. 0. 0.]\n",
            " [0. 0. 0. 0.]\n",
            " [0. 0. 0. 0.]\n",
            " [0. 0. 0. 0.]]\n",
            "[[5 5 5 5]\n",
            " [5 5 5 5]\n",
            " [5 5 5 5]\n",
            " [5 5 5 5]]\n",
            "[[1. 0. 0. 0.]\n",
            " [0. 1. 0. 0.]\n",
            " [0. 0. 1. 0.]\n",
            " [0. 0. 0. 1.]]\n",
            "-------------------------\n",
            "[[1. 1. 1. 1.]\n",
            " [1. 1. 1. 1.]\n",
            " [1. 1. 1. 1.]\n",
            " [1. 1. 1. 1.]]\n",
            "(4, 4)\n"
          ]
        }
      ],
      "source": [
        "from numpy.core.multiarray import zeros\n",
        "import numpy as np\n",
        "\n",
        "aux=np.array([1,2,4,5])\n",
        "print(aux)\n",
        "print(aux.shape)\n",
        "\n",
        "\n",
        "aux=np.array([[1,2,3,4],[1,2,3,4]])\n",
        "print(aux.shape)\n",
        "print(aux)\n",
        "print(type(aux))\n",
        "\n",
        "\n",
        "tmp=np.zeros([4,4])\n",
        "print(tmp)\n",
        "\n",
        "\n",
        "tmp=np.full([4,4],5)\n",
        "print(tmp)\n",
        "\n",
        "\n",
        "tmp=np.eye(4,4)\n",
        "print(tmp)\n",
        "\n",
        "print(\"-------------------------\")\n",
        "tmp=np.ones([4,4])\n",
        "print(tmp)\n",
        "\n",
        "print(tmp.shape)"
      ]
    },
    {
      "cell_type": "code",
      "source": [
        "tmp=10*np.random.random([3,3])\n",
        "print(tmp)"
      ],
      "metadata": {
        "colab": {
          "base_uri": "https://localhost:8080/"
        },
        "id": "nhhyZ6MDRrvr",
        "outputId": "781ab2dd-3cb6-45a7-bd34-a93b6c80c19e"
      },
      "execution_count": null,
      "outputs": [
        {
          "output_type": "stream",
          "name": "stdout",
          "text": [
            "[[1.36529812 6.45954779 0.04573917]\n",
            " [4.51191804 1.1309072  5.13337449]\n",
            " [7.58343265 8.55258021 5.66248526]]\n"
          ]
        }
      ]
    },
    {
      "cell_type": "code",
      "source": [],
      "metadata": {
        "id": "_SHJnJsdUDmM"
      },
      "execution_count": null,
      "outputs": []
    },
    {
      "cell_type": "code",
      "source": [
        "print(tmp[:2,:2])"
      ],
      "metadata": {
        "colab": {
          "base_uri": "https://localhost:8080/"
        },
        "id": "vJ8MtRPRSfJE",
        "outputId": "fb813bdf-122a-4841-c761-f7629737818a"
      },
      "execution_count": null,
      "outputs": [
        {
          "output_type": "stream",
          "name": "stdout",
          "text": [
            "[[1.36529812 6.45954779]\n",
            " [4.51191804 1.1309072 ]]\n"
          ]
        }
      ]
    },
    {
      "cell_type": "code",
      "source": [
        "print(tmp[:2,1:3])"
      ],
      "metadata": {
        "colab": {
          "base_uri": "https://localhost:8080/"
        },
        "id": "biDZ7FvaTIgy",
        "outputId": "f19ded87-3a6b-4c30-8afa-5c8f886c28c0"
      },
      "execution_count": null,
      "outputs": [
        {
          "output_type": "stream",
          "name": "stdout",
          "text": [
            "[[6.45954779 0.04573917]\n",
            " [1.1309072  5.13337449]]\n"
          ]
        }
      ]
    },
    {
      "cell_type": "code",
      "source": [
        "print(tmp[2,2])"
      ],
      "metadata": {
        "colab": {
          "base_uri": "https://localhost:8080/"
        },
        "id": "AHhJ_MiTTpEm",
        "outputId": "0c43d60a-f93a-4928-e6dc-2061e70a23eb"
      },
      "execution_count": null,
      "outputs": [
        {
          "output_type": "stream",
          "name": "stdout",
          "text": [
            "5.662485255730959\n"
          ]
        }
      ]
    },
    {
      "cell_type": "code",
      "source": [
        "tmp=10*np.random.random([3,3])\n",
        "print(tmp)"
      ],
      "metadata": {
        "colab": {
          "base_uri": "https://localhost:8080/"
        },
        "id": "LlhAmWcNUI7L",
        "outputId": "68809fc1-bf9f-4942-956c-fe7939a045be"
      },
      "execution_count": null,
      "outputs": [
        {
          "output_type": "stream",
          "name": "stdout",
          "text": [
            "[[9.11479225 5.37197602 9.68708941]\n",
            " [2.04107105 2.64210816 3.38468731]\n",
            " [9.59707068 4.35109833 7.42206611]]\n"
          ]
        }
      ]
    },
    {
      "cell_type": "code",
      "source": [
        "mask=tmp>5\n",
        "print(tmp[mask])"
      ],
      "metadata": {
        "colab": {
          "base_uri": "https://localhost:8080/"
        },
        "id": "3OVQ-Z6YURsT",
        "outputId": "c8e032f7-c95a-4afc-9fc0-9612c6667796"
      },
      "execution_count": null,
      "outputs": [
        {
          "output_type": "stream",
          "name": "stdout",
          "text": [
            "[9.11479225 5.37197602 9.68708941 9.59707068 7.42206611]\n"
          ]
        }
      ]
    },
    {
      "cell_type": "code",
      "source": [
        "mask=(tmp>=2) & (tmp<=4)\n",
        "print(tmp[mask])"
      ],
      "metadata": {
        "colab": {
          "base_uri": "https://localhost:8080/"
        },
        "id": "VHTdazUyU7LD",
        "outputId": "5780af42-f8c4-4a23-9d9c-c37d6dbf2a5c"
      },
      "execution_count": null,
      "outputs": [
        {
          "output_type": "stream",
          "name": "stdout",
          "text": [
            "[2.04107105 2.64210816 3.38468731]\n"
          ]
        }
      ]
    },
    {
      "cell_type": "code",
      "source": [
        "np = np.random.randint(0,100, (4,4))\n",
        "\n",
        "np = np[np % 2 == 0]\n",
        "print(np)"
      ],
      "metadata": {
        "colab": {
          "base_uri": "https://localhost:8080/"
        },
        "id": "QAjpYp2fWwVc",
        "outputId": "0e9f8833-59d7-4233-b427-e3494329e141"
      },
      "execution_count": null,
      "outputs": [
        {
          "output_type": "stream",
          "name": "stdout",
          "text": [
            "[[74 89 87 80]\n",
            " [33 25 82 31]\n",
            " [29 94 95 59]\n",
            " [53 54 58 98]]\n",
            "[84 66 10 68 54 82 44 70 90 14 86 62]\n"
          ]
        }
      ]
    },
    {
      "cell_type": "code",
      "source": [
        "import numpy as np\n",
        "\n",
        "# Create an array with integer values batween 1 and 10\n",
        "a=np.random.randint(1,11,size=(3,4))\n",
        "b=np.random.randint(1,11,size=(3,4))\n",
        "print(a)\n",
        "print(b)\n",
        "print(a.shape)\n",
        "print(b.shape)\n",
        "print(\"adding numbers\")\n",
        "print(a+b)\n",
        "print(\"substracting numbers\")\n",
        "print(a-b)\n",
        "\n",
        "print(np.add(a,b))\n",
        "print(np.multiply(a,b))"
      ],
      "metadata": {
        "colab": {
          "base_uri": "https://localhost:8080/"
        },
        "id": "irnC60nlKKXy",
        "outputId": "0420bd0f-c8d9-45b5-89d4-4b3583265c7b"
      },
      "execution_count": null,
      "outputs": [
        {
          "output_type": "stream",
          "name": "stdout",
          "text": [
            "[[ 4  4  4  7]\n",
            " [ 6  1 10 10]\n",
            " [ 2  8  6  3]]\n",
            "[[3 9 2 4]\n",
            " [3 6 9 4]\n",
            " [3 1 1 6]]\n",
            "(3, 4)\n",
            "(3, 4)\n",
            "adding numbers\n",
            "[[ 7 13  6 11]\n",
            " [ 9  7 19 14]\n",
            " [ 5  9  7  9]]\n",
            "substracting numbers\n",
            "[[ 1 -5  2  3]\n",
            " [ 3 -5  1  6]\n",
            " [-1  7  5 -3]]\n",
            "[[ 7 13  6 11]\n",
            " [ 9  7 19 14]\n",
            " [ 5  9  7  9]]\n",
            "[[12 36  8 28]\n",
            " [18  6 90 40]\n",
            " [ 6  8  6 18]]\n"
          ]
        }
      ]
    },
    {
      "cell_type": "code",
      "source": [
        "a=np.random.randint(1,11,size=(2,3))\n",
        "b=np.random.randint(1,11,size=(3,4))\n",
        "print(a)\n",
        "print(b)\n",
        "print(np.dot(a,b))\n",
        "print(a.dot(b))"
      ],
      "metadata": {
        "colab": {
          "base_uri": "https://localhost:8080/"
        },
        "id": "5K-ZtwHBKPjC",
        "outputId": "18c4385d-45d4-47c5-efbb-43e13da642e6"
      },
      "execution_count": null,
      "outputs": [
        {
          "output_type": "stream",
          "name": "stdout",
          "text": [
            "[[5 3 7]\n",
            " [3 4 8]]\n",
            "[[ 9  6  1 10]\n",
            " [ 8  2  5  3]\n",
            " [10  4  4  3]]\n",
            "[[139  64  48  80]\n",
            " [139  58  55  66]]\n",
            "[[139  64  48  80]\n",
            " [139  58  55  66]]\n"
          ]
        }
      ]
    },
    {
      "cell_type": "code",
      "source": [
        "a=np.random.randint(1,11,size=(2,2))\n",
        "print(a.shape)\n",
        "print(type(a))\n",
        "print(a)\n",
        "print(a.T)"
      ],
      "metadata": {
        "colab": {
          "base_uri": "https://localhost:8080/"
        },
        "id": "V5W9sPgRKR6j",
        "outputId": "1bc31abb-65db-4d95-aafd-b51917dbb249"
      },
      "execution_count": null,
      "outputs": [
        {
          "output_type": "stream",
          "name": "stdout",
          "text": [
            "(2, 2)\n",
            "<class 'numpy.ndarray'>\n",
            "[[ 1  4]\n",
            " [10  1]]\n",
            "[[ 1 10]\n",
            " [ 4  1]]\n"
          ]
        }
      ]
    },
    {
      "cell_type": "code",
      "source": [
        "a=np.random.randint(1,11,size=(4,3))\n",
        "b=np.array([1,0,2])\n",
        "print(a.shape)\n",
        "print(b.shape)\n",
        "\n",
        "c=np.empty_like(a)\n",
        "print(a)\n",
        "print(b)\n",
        "\n",
        "print(c.shape)\n",
        "print(\"----------------------\")\n",
        "print(c)"
      ],
      "metadata": {
        "colab": {
          "base_uri": "https://localhost:8080/"
        },
        "id": "J3Ee_E0vKUlN",
        "outputId": "35202d2b-6b36-4d9d-9cac-ca4150c22bc5"
      },
      "execution_count": null,
      "outputs": [
        {
          "output_type": "stream",
          "name": "stdout",
          "text": [
            "(4, 3)\n",
            "(3,)\n",
            "[[ 8  3  2]\n",
            " [ 6  5  3]\n",
            " [ 3  4  6]\n",
            " [ 2 10  6]]\n",
            "[1 0 2]\n",
            "(4, 3)\n",
            "----------------------\n",
            "[[ 4  4  4]\n",
            " [ 7  6  1]\n",
            " [10 10  2]\n",
            " [ 8  6  3]]\n"
          ]
        }
      ]
    },
    {
      "cell_type": "code",
      "source": [
        "for i in range(4):\n",
        "  c[i,:]=a[i,:]+b\n",
        "\n",
        "print (a)\n",
        "print (b)\n",
        "print (c)\n",
        "\n",
        "c=a+b\n",
        "print(c)"
      ],
      "metadata": {
        "colab": {
          "base_uri": "https://localhost:8080/"
        },
        "id": "I-fGerbOKXR8",
        "outputId": "885d91a2-f3b8-4405-b9a5-da75043bd9bf"
      },
      "execution_count": null,
      "outputs": [
        {
          "output_type": "stream",
          "name": "stdout",
          "text": [
            "[[ 8  3  2]\n",
            " [ 6  5  3]\n",
            " [ 3  4  6]\n",
            " [ 2 10  6]]\n",
            "[1 0 2]\n",
            "[[ 9  3  4]\n",
            " [ 7  5  5]\n",
            " [ 4  4  8]\n",
            " [ 3 10  8]]\n",
            "[[ 9  3  4]\n",
            " [ 7  5  5]\n",
            " [ 4  4  8]\n",
            " [ 3 10  8]]\n"
          ]
        }
      ]
    },
    {
      "cell_type": "code",
      "source": [
        "a=np.array([1,2,3])\n",
        "\n",
        "print(a)\n",
        "\n",
        "tmp=np.tile(a,(6,1))\n",
        "print(tmp)"
      ],
      "metadata": {
        "colab": {
          "base_uri": "https://localhost:8080/"
        },
        "id": "0pi227NeKZ3e",
        "outputId": "97716b28-ac93-440b-c3e3-53de1c1aa987"
      },
      "execution_count": null,
      "outputs": [
        {
          "output_type": "stream",
          "name": "stdout",
          "text": [
            "[1 2 3]\n",
            "[[1 2 3]\n",
            " [1 2 3]\n",
            " [1 2 3]\n",
            " [1 2 3]\n",
            " [1 2 3]\n",
            " [1 2 3]]\n"
          ]
        }
      ]
    },
    {
      "cell_type": "code",
      "source": [
        "a=np.random.randint(0,10,size=(6,6))\n",
        "print(a)\n",
        "aux=np.mean(a)\n",
        "print(aux)\n",
        "\n",
        "\n",
        "\n",
        "print(a.mean(axis=1))"
      ],
      "metadata": {
        "colab": {
          "base_uri": "https://localhost:8080/"
        },
        "id": "oNmN-rjpKdg0",
        "outputId": "55271de0-56bc-40a4-a7a8-075073f5264b"
      },
      "execution_count": null,
      "outputs": [
        {
          "output_type": "stream",
          "name": "stdout",
          "text": [
            "[[8 3 7 2 6 1]\n",
            " [6 6 4 4 8 4]\n",
            " [8 6 9 9 2 5]\n",
            " [4 1 1 9 5 6]\n",
            " [8 5 7 5 0 5]\n",
            " [9 9 2 3 0 2]]\n",
            "4.972222222222222\n",
            "[4.5        5.33333333 6.5        4.33333333 5.         4.16666667]\n"
          ]
        }
      ]
    }
  ]
}